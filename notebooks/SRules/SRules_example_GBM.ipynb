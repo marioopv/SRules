{
 "cells": [
  {
   "cell_type": "markdown",
   "metadata": {},
   "source": [
    "\n"
   ]
  },
  {
   "cell_type": "markdown",
   "metadata": {},
   "source": [
    "# SRules"
   ]
  },
  {
   "cell_type": "markdown",
   "metadata": {},
   "source": [
    "# Statics"
   ]
  },
  {
   "cell_type": "code",
   "execution_count": 17,
   "metadata": {
    "ExecuteTime": {
     "end_time": "2023-08-04T08:57:26.303921Z",
     "start_time": "2023-08-04T08:57:26.204336Z"
    }
   },
   "outputs": [],
   "source": [
    "import dask.dataframe as dd\n",
    "import pandas as pd\n",
    "from sklearn.model_selection import train_test_split\n",
    "import numpy as np\n",
    "from sklearn import metrics\n"
   ]
  },
  {
   "cell_type": "markdown",
   "metadata": {},
   "source": [
    "## Load Dataset"
   ]
  },
  {
   "cell_type": "code",
   "execution_count": 18,
   "metadata": {
    "ExecuteTime": {
     "end_time": "2023-08-04T08:57:26.413985Z",
     "start_time": "2023-08-04T08:57:26.221469Z"
    }
   },
   "outputs": [
    {
     "data": {
      "text/plain": "   Atr1_0  Atr1_1  Atr1_2  Atr1_3  Atr1_4  Atr2_0  Atr2_1  Atr2_2  Atr2_3  \\\n0   False   False    True   False   False   False   False    True   False   \n1   False   False   False   False    True   False   False   False   False   \n2   False   False    True   False   False   False   False    True   False   \n3   False   False   False    True   False   False   False    True   False   \n4   False   False    True   False   False   False   False    True   False   \n\n   Atr2_4  ...  Atr53_1  Atr53_2  Atr53_3  Atr53_4  Atr54_0  Atr54_1  Atr54_2  \\\n0   False  ...    False     True    False    False    False     True    False   \n1    True  ...    False     True    False    False    False    False     True   \n2   False  ...    False     True    False    False    False    False     True   \n3   False  ...    False     True    False    False    False    False     True   \n4   False  ...     True    False    False    False     True    False    False   \n\n   Atr54_3  Atr54_4  Class  \n0    False    False   True  \n1    False    False   True  \n2    False    False   True  \n3    False    False   True  \n4    False    False   True  \n\n[5 rows x 271 columns]",
      "text/html": "<div>\n<style scoped>\n    .dataframe tbody tr th:only-of-type {\n        vertical-align: middle;\n    }\n\n    .dataframe tbody tr th {\n        vertical-align: top;\n    }\n\n    .dataframe thead th {\n        text-align: right;\n    }\n</style>\n<table border=\"1\" class=\"dataframe\">\n  <thead>\n    <tr style=\"text-align: right;\">\n      <th></th>\n      <th>Atr1_0</th>\n      <th>Atr1_1</th>\n      <th>Atr1_2</th>\n      <th>Atr1_3</th>\n      <th>Atr1_4</th>\n      <th>Atr2_0</th>\n      <th>Atr2_1</th>\n      <th>Atr2_2</th>\n      <th>Atr2_3</th>\n      <th>Atr2_4</th>\n      <th>...</th>\n      <th>Atr53_1</th>\n      <th>Atr53_2</th>\n      <th>Atr53_3</th>\n      <th>Atr53_4</th>\n      <th>Atr54_0</th>\n      <th>Atr54_1</th>\n      <th>Atr54_2</th>\n      <th>Atr54_3</th>\n      <th>Atr54_4</th>\n      <th>Class</th>\n    </tr>\n  </thead>\n  <tbody>\n    <tr>\n      <th>0</th>\n      <td>False</td>\n      <td>False</td>\n      <td>True</td>\n      <td>False</td>\n      <td>False</td>\n      <td>False</td>\n      <td>False</td>\n      <td>True</td>\n      <td>False</td>\n      <td>False</td>\n      <td>...</td>\n      <td>False</td>\n      <td>True</td>\n      <td>False</td>\n      <td>False</td>\n      <td>False</td>\n      <td>True</td>\n      <td>False</td>\n      <td>False</td>\n      <td>False</td>\n      <td>True</td>\n    </tr>\n    <tr>\n      <th>1</th>\n      <td>False</td>\n      <td>False</td>\n      <td>False</td>\n      <td>False</td>\n      <td>True</td>\n      <td>False</td>\n      <td>False</td>\n      <td>False</td>\n      <td>False</td>\n      <td>True</td>\n      <td>...</td>\n      <td>False</td>\n      <td>True</td>\n      <td>False</td>\n      <td>False</td>\n      <td>False</td>\n      <td>False</td>\n      <td>True</td>\n      <td>False</td>\n      <td>False</td>\n      <td>True</td>\n    </tr>\n    <tr>\n      <th>2</th>\n      <td>False</td>\n      <td>False</td>\n      <td>True</td>\n      <td>False</td>\n      <td>False</td>\n      <td>False</td>\n      <td>False</td>\n      <td>True</td>\n      <td>False</td>\n      <td>False</td>\n      <td>...</td>\n      <td>False</td>\n      <td>True</td>\n      <td>False</td>\n      <td>False</td>\n      <td>False</td>\n      <td>False</td>\n      <td>True</td>\n      <td>False</td>\n      <td>False</td>\n      <td>True</td>\n    </tr>\n    <tr>\n      <th>3</th>\n      <td>False</td>\n      <td>False</td>\n      <td>False</td>\n      <td>True</td>\n      <td>False</td>\n      <td>False</td>\n      <td>False</td>\n      <td>True</td>\n      <td>False</td>\n      <td>False</td>\n      <td>...</td>\n      <td>False</td>\n      <td>True</td>\n      <td>False</td>\n      <td>False</td>\n      <td>False</td>\n      <td>False</td>\n      <td>True</td>\n      <td>False</td>\n      <td>False</td>\n      <td>True</td>\n    </tr>\n    <tr>\n      <th>4</th>\n      <td>False</td>\n      <td>False</td>\n      <td>True</td>\n      <td>False</td>\n      <td>False</td>\n      <td>False</td>\n      <td>False</td>\n      <td>True</td>\n      <td>False</td>\n      <td>False</td>\n      <td>...</td>\n      <td>True</td>\n      <td>False</td>\n      <td>False</td>\n      <td>False</td>\n      <td>True</td>\n      <td>False</td>\n      <td>False</td>\n      <td>False</td>\n      <td>False</td>\n      <td>True</td>\n    </tr>\n  </tbody>\n</table>\n<p>5 rows × 271 columns</p>\n</div>"
     },
     "execution_count": 18,
     "metadata": {},
     "output_type": "execute_result"
    }
   ],
   "source": [
    "\n",
    "from notebooks.SRules.read_datasets import read_dataset\n",
    "\n",
    "filename = \"divorce\"\n",
    "test_size=0.1\n",
    "path = f'../..'\n",
    "dataset_path_name = f'{path}/data/{filename}.csv'\n",
    "X, y, dataset, target_value_name, pandas_dataset = read_dataset(filename, dataset_path_name)\n",
    "\n",
    "pandas_dataset.head()"
   ]
  },
  {
   "cell_type": "code",
   "execution_count": 19,
   "outputs": [
    {
     "name": "stdout",
     "output_type": "stream",
     "text": [
      "Sizes (without target):\n",
      "Original size (170, 270)\n",
      "Train size (153, 270)\n",
      "Test size (17, 270)\n",
      "encoded_train_pandas_dataset size (153, 271)\n",
      "encoded_test_pandas_dataset size (17, 271)\n"
     ]
    }
   ],
   "source": [
    "#Define dataset\n",
    "X_train, X_test, y_train, y_test = train_test_split(dataset.data, dataset.target, test_size=test_size, random_state=1)\n",
    "encoded_train_pandas_dataset = pd.DataFrame(data= np.c_[X_train, y_train], columns= list(dataset['feature_names']) + [target_value_name])\n",
    "encoded_test_pandas_dataset = pd.DataFrame(data= np.c_[X_test, y_test], columns= list(dataset['feature_names']) + [target_value_name])\n",
    "print('Sizes (without target):')\n",
    "print(f'Original size {dataset.data.shape}')\n",
    "print(f'Train size {X_train.shape}')\n",
    "print(f'Test size {X_test.shape}')\n",
    "print(f'encoded_train_pandas_dataset size {encoded_train_pandas_dataset.shape}')\n",
    "print(f'encoded_test_pandas_dataset size {encoded_test_pandas_dataset.shape}')"
   ],
   "metadata": {
    "collapsed": false,
    "ExecuteTime": {
     "end_time": "2023-08-04T08:57:26.426191Z",
     "start_time": "2023-08-04T08:57:26.415978Z"
    }
   }
  },
  {
   "cell_type": "markdown",
   "metadata": {},
   "source": [
    "## Define Random Forest"
   ]
  },
  {
   "cell_type": "code",
   "execution_count": 20,
   "metadata": {
    "ExecuteTime": {
     "end_time": "2023-08-04T08:57:26.685615Z",
     "start_time": "2023-08-04T08:57:26.431719Z"
    }
   },
   "outputs": [
    {
     "data": {
      "text/plain": "AdaBoostClassifier(n_estimators=100)",
      "text/html": "<style>#sk-container-id-3 {color: black;background-color: white;}#sk-container-id-3 pre{padding: 0;}#sk-container-id-3 div.sk-toggleable {background-color: white;}#sk-container-id-3 label.sk-toggleable__label {cursor: pointer;display: block;width: 100%;margin-bottom: 0;padding: 0.3em;box-sizing: border-box;text-align: center;}#sk-container-id-3 label.sk-toggleable__label-arrow:before {content: \"▸\";float: left;margin-right: 0.25em;color: #696969;}#sk-container-id-3 label.sk-toggleable__label-arrow:hover:before {color: black;}#sk-container-id-3 div.sk-estimator:hover label.sk-toggleable__label-arrow:before {color: black;}#sk-container-id-3 div.sk-toggleable__content {max-height: 0;max-width: 0;overflow: hidden;text-align: left;background-color: #f0f8ff;}#sk-container-id-3 div.sk-toggleable__content pre {margin: 0.2em;color: black;border-radius: 0.25em;background-color: #f0f8ff;}#sk-container-id-3 input.sk-toggleable__control:checked~div.sk-toggleable__content {max-height: 200px;max-width: 100%;overflow: auto;}#sk-container-id-3 input.sk-toggleable__control:checked~label.sk-toggleable__label-arrow:before {content: \"▾\";}#sk-container-id-3 div.sk-estimator input.sk-toggleable__control:checked~label.sk-toggleable__label {background-color: #d4ebff;}#sk-container-id-3 div.sk-label input.sk-toggleable__control:checked~label.sk-toggleable__label {background-color: #d4ebff;}#sk-container-id-3 input.sk-hidden--visually {border: 0;clip: rect(1px 1px 1px 1px);clip: rect(1px, 1px, 1px, 1px);height: 1px;margin: -1px;overflow: hidden;padding: 0;position: absolute;width: 1px;}#sk-container-id-3 div.sk-estimator {font-family: monospace;background-color: #f0f8ff;border: 1px dotted black;border-radius: 0.25em;box-sizing: border-box;margin-bottom: 0.5em;}#sk-container-id-3 div.sk-estimator:hover {background-color: #d4ebff;}#sk-container-id-3 div.sk-parallel-item::after {content: \"\";width: 100%;border-bottom: 1px solid gray;flex-grow: 1;}#sk-container-id-3 div.sk-label:hover label.sk-toggleable__label {background-color: #d4ebff;}#sk-container-id-3 div.sk-serial::before {content: \"\";position: absolute;border-left: 1px solid gray;box-sizing: border-box;top: 0;bottom: 0;left: 50%;z-index: 0;}#sk-container-id-3 div.sk-serial {display: flex;flex-direction: column;align-items: center;background-color: white;padding-right: 0.2em;padding-left: 0.2em;position: relative;}#sk-container-id-3 div.sk-item {position: relative;z-index: 1;}#sk-container-id-3 div.sk-parallel {display: flex;align-items: stretch;justify-content: center;background-color: white;position: relative;}#sk-container-id-3 div.sk-item::before, #sk-container-id-3 div.sk-parallel-item::before {content: \"\";position: absolute;border-left: 1px solid gray;box-sizing: border-box;top: 0;bottom: 0;left: 50%;z-index: -1;}#sk-container-id-3 div.sk-parallel-item {display: flex;flex-direction: column;z-index: 1;position: relative;background-color: white;}#sk-container-id-3 div.sk-parallel-item:first-child::after {align-self: flex-end;width: 50%;}#sk-container-id-3 div.sk-parallel-item:last-child::after {align-self: flex-start;width: 50%;}#sk-container-id-3 div.sk-parallel-item:only-child::after {width: 0;}#sk-container-id-3 div.sk-dashed-wrapped {border: 1px dashed gray;margin: 0 0.4em 0.5em 0.4em;box-sizing: border-box;padding-bottom: 0.4em;background-color: white;}#sk-container-id-3 div.sk-label label {font-family: monospace;font-weight: bold;display: inline-block;line-height: 1.2em;}#sk-container-id-3 div.sk-label-container {text-align: center;}#sk-container-id-3 div.sk-container {/* jupyter's `normalize.less` sets `[hidden] { display: none; }` but bootstrap.min.css set `[hidden] { display: none !important; }` so we also need the `!important` here to be able to override the default hidden behavior on the sphinx rendered scikit-learn.org. See: https://github.com/scikit-learn/scikit-learn/issues/21755 */display: inline-block !important;position: relative;}#sk-container-id-3 div.sk-text-repr-fallback {display: none;}</style><div id=\"sk-container-id-3\" class=\"sk-top-container\"><div class=\"sk-text-repr-fallback\"><pre>AdaBoostClassifier(n_estimators=100)</pre><b>In a Jupyter environment, please rerun this cell to show the HTML representation or trust the notebook. <br />On GitHub, the HTML representation is unable to render, please try loading this page with nbviewer.org.</b></div><div class=\"sk-container\" hidden><div class=\"sk-item\"><div class=\"sk-estimator sk-toggleable\"><input class=\"sk-toggleable__control sk-hidden--visually\" id=\"sk-estimator-id-3\" type=\"checkbox\" checked><label for=\"sk-estimator-id-3\" class=\"sk-toggleable__label sk-toggleable__label-arrow\">AdaBoostClassifier</label><div class=\"sk-toggleable__content\"><pre>AdaBoostClassifier(n_estimators=100)</pre></div></div></div></div></div>"
     },
     "execution_count": 20,
     "metadata": {},
     "output_type": "execute_result"
    }
   ],
   "source": [
    "from sklearn.ensemble import GradientBoostingClassifier\n",
    "from sklearn.ensemble import AdaBoostClassifier\n",
    "from sklearn.model_selection import GridSearchCV\n",
    "from sklearn.metrics import precision_score, make_scorer, recall_score, accuracy_score\n",
    "\n",
    "# Define scorer\n",
    "ensemble = AdaBoostClassifier(n_estimators=100)\n",
    "ensemble.fit(X_train, y_train)"
   ]
  },
  {
   "cell_type": "markdown",
   "metadata": {},
   "source": [
    "## SRules"
   ]
  },
  {
   "cell_type": "code",
   "execution_count": 21,
   "metadata": {
    "ExecuteTime": {
     "end_time": "2023-08-04T08:57:32.784537Z",
     "start_time": "2023-08-04T08:57:26.677306Z"
    }
   },
   "outputs": [
    {
     "name": "stdout",
     "output_type": "stream",
     "text": [
      "->TRAINING MODEL\n",
      "-->FITTING RULES 1\n",
      "->Extract feature importance list\n"
     ]
    },
    {
     "data": {
      "text/plain": "<Figure size 640x480 with 1 Axes>",
      "image/png": "[encoded data removed]"
     },
     "metadata": {},
     "output_type": "display_data"
    },
    {
     "name": "stdout",
     "output_type": "stream",
     "text": [
      "\t Original features 270\n",
      "\t Selected features 40\n",
      "\t Percentage of selected rules: 14.814814814814815 %\n",
      "->Generate new tree based on list\n",
      "Elapsed time to compute the binary_tree_generator: 5.596 seconds\n",
      "->Generate obtained patterns tree\n",
      "Elapsed time to compute the obtain_pattern_list_of_valid_nodes_with_pvalue: 0.026 seconds\n",
      "->Categorize patterns\n",
      "Elapsed time to compute the categorize_patterns: 0.028 seconds\n",
      "->Prune Rules\n",
      "Elapsed time to compute the prune_rules: 0.000 seconds\n",
      "---> Previous dataset length: 153\n",
      "---> New dataset length: 21\n",
      "\n",
      "> ++++++++++++++++++++++++++++\n",
      "> SRules --  Number of Rules: 4\n",
      "> SRules --  Number of Minimal Rules: 2\n",
      "> ++++++++++++++++++++++++++++\n",
      "\n",
      "-->FITTING RULES 2\n",
      "->Extract feature importance list\n"
     ]
    },
    {
     "data": {
      "text/plain": "<Figure size 640x480 with 1 Axes>",
      "image/png": "[encoded data removed]"
     },
     "metadata": {},
     "output_type": "display_data"
    },
    {
     "name": "stdout",
     "output_type": "stream",
     "text": [
      "\t Original features 270\n",
      "\t Selected features 1\n",
      "\t Percentage of selected rules: 0.37037037037037035 %\n",
      "->Generate new tree based on list\n",
      "Elapsed time to compute the binary_tree_generator: 0.008 seconds\n",
      "->Generate obtained patterns tree\n",
      "Elapsed time to compute the obtain_pattern_list_of_valid_nodes_with_pvalue: 0.000 seconds\n",
      "->Categorize patterns\n",
      "Elapsed time to compute the categorize_patterns: 0.000 seconds\n",
      "->Prune Rules\n",
      "Elapsed time to compute the prune_rules: 0.000 seconds\n",
      "->Prune Rules\n",
      "Elapsed time to compute the prune_rules: 0.000 seconds\n",
      "---> Previous dataset length: 21\n",
      "---> New dataset length: 21\n",
      "\n",
      "> ++++++++++++++++++++++++++++\n",
      "> SRules --  Number of Rules: 0\n",
      "> SRules --  Number of Minimal Rules: 0\n",
      "> ++++++++++++++++++++++++++++\n",
      "\n",
      "->Prune Rules\n",
      "Elapsed time to compute the prune_rules: 0.000 seconds\n",
      "Elapsed TOTAL TIME: 6.089 seconds\n"
     ]
    }
   ],
   "source": [
    "from SRules.SRules import SRules\n",
    "\n",
    "import time\n",
    "start_time = time.time()\n",
    "rules = SRules(\n",
    "                feature_names=dataset.feature_names,\n",
    "                target_value_name = dataset.target_names,\n",
    "                display_features = True,\n",
    "                display_logs = True,\n",
    "                chi_square_percent_point_function = 0.99,\n",
    "                scale_feature_coefficient = 0.1,\n",
    "                min_accuracy_coefficient = 0.95,\n",
    "                min_number_class_per_node = 5\n",
    "            )\n",
    "# Fit model\n",
    "rules.fit(ensemble, X_train, y_train, encoded_train_pandas_dataset, ensemble.feature_importances_)\n",
    "\n",
    "elapsed_time = time.time() - start_time\n",
    "print(f\"Elapsed TOTAL TIME: {elapsed_time:.3f} seconds\")"
   ]
  },
  {
   "cell_type": "markdown",
   "metadata": {},
   "source": [
    "# Print Model"
   ]
  },
  {
   "cell_type": "code",
   "execution_count": 22,
   "metadata": {
    "ExecuteTime": {
     "end_time": "2023-08-04T08:57:32.786898Z",
     "start_time": "2023-08-04T08:57:32.777138Z"
    }
   },
   "outputs": [
    {
     "name": "stdout",
     "output_type": "stream",
     "text": [
      "> ++++++++++++++++++++++++++++\n",
      "> SRules --  Number of Rules: 2\n",
      "> SRules --  Number of Minimal Rules: 2\n",
      "> ++++++++++++++++++++++++++++\n",
      "> ------------------------------\n",
      " ** Target value: False ** Target: 57 ** Total: 57 ** Accuracy: 1.0 ** Complexity: 2 ** Chi2 critical_value: 6.6348966010212145 ** P_value: 0.0007174246773328592\n",
      "\t Query: Atr36_0 == True  &  Atr11_0 == True\n",
      "> ------------------------------\n",
      "> ------------------------------\n",
      " ** Target value: True ** Target: 73 ** Total: 75 ** Accuracy: 0.9733333333333334 ** Complexity: 1 ** Chi2 critical_value: 6.6348966010212145 ** P_value: 4.0304880740825434e-30\n",
      "\t Query: Atr36_0 == False\n",
      "> ------------------------------\n"
     ]
    }
   ],
   "source": [
    "print(rules)"
   ]
  },
  {
   "cell_type": "markdown",
   "metadata": {},
   "source": [
    "# Predict"
   ]
  },
  {
   "cell_type": "code",
   "execution_count": 23,
   "outputs": [],
   "source": [
    "# ENSEMBLE\n",
    "y_pred_test_ensemble = ensemble.predict(X_test)\n",
    "\n",
    "# RULES\n",
    "y_pred_test_rules = rules.predict(X_test, sorting_method=\"target_accuracy\")"
   ],
   "metadata": {
    "collapsed": false,
    "ExecuteTime": {
     "end_time": "2023-08-04T08:57:32.864057Z",
     "start_time": "2023-08-04T08:57:32.790527Z"
    }
   }
  },
  {
   "cell_type": "code",
   "execution_count": 24,
   "metadata": {
    "ExecuteTime": {
     "end_time": "2023-08-04T08:57:32.873632Z",
     "start_time": "2023-08-04T08:57:32.797588Z"
    }
   },
   "outputs": [
    {
     "name": "stdout",
     "output_type": "stream",
     "text": [
      "DATASET TEST: 17\n",
      "DATASET TEST categorizable: 17\n",
      "Cobertura: 100.00%\n",
      "RF accuracy: 41.18%\n",
      "RF F1-score: 58.33%\n",
      "Rules Accuracy: 88.24%\n",
      "Rules F1-score: 85.71%\n",
      "Rules roc_auc_score: 87.86%\n"
     ]
    }
   ],
   "source": [
    "# CATEGORIZABLES\n",
    "np_array_rules = np.array(y_pred_test_rules)\n",
    "#not_filter_indices = np.where(np.logical_and(np_array_rules != 0, np_array_rules!=1))[0]\n",
    "filter_indices = np.where(np_array_rules != None)[0]\n",
    "\n",
    "\n",
    "np_filterred_y_test = np.array(y_test)[filter_indices]\n",
    "np_filterred_y_pred_test_ensemble = np.array(y_pred_test_ensemble)[filter_indices]\n",
    "np_filterred_y_pred_test_rules = np.array(y_pred_test_rules)[filter_indices]\n",
    "# CHANGE FORMAT IN ORDER TO NOT HAVE PROBLEMS\n",
    "np_filterred_y_pred_test_rules = np_filterred_y_pred_test_rules.astype('int64')\n",
    "\n",
    "\n",
    "print(f'DATASET TEST: {len(y_test)}')\n",
    "print(f'DATASET TEST categorizable: {len(np_filterred_y_test)}')\n",
    "print('Cobertura:',str(\"{:.2f}\".format(100*(len(np_filterred_y_pred_test_rules)/len(y_test))))+'%')\n",
    "\n",
    "ensemble_accuracy = metrics.accuracy_score(np_filterred_y_test, np_filterred_y_pred_test_ensemble)\n",
    "print('RF accuracy:',str(\"{:.2f}\".format(100*ensemble_accuracy))+'%')\n",
    "ensemble_accuracy = metrics.f1_score(np_filterred_y_test, np_filterred_y_pred_test_ensemble)\n",
    "print('RF F1-score:',str(\"{:.2f}\".format(100*ensemble_accuracy))+'%')\n",
    "rules_accuracy = metrics.accuracy_score(np_filterred_y_test, np_filterred_y_pred_test_rules)\n",
    "print('Rules Accuracy:',str(\"{:.2f}\".format(100*rules_accuracy))+'%')\n",
    "rules_F1 = metrics.f1_score(np_filterred_y_test, np_filterred_y_pred_test_rules)\n",
    "print('Rules F1-score:',str(\"{:.2f}\".format(100*rules_F1))+'%')\n",
    "rules_roc_auc = metrics.roc_auc_score(np_filterred_y_test, np_filterred_y_pred_test_rules)\n",
    "print('Rules roc_auc_score:',str(\"{:.2f}\".format(100*rules_roc_auc))+'%')\n"
   ]
  },
  {
   "cell_type": "code",
   "execution_count": 27,
   "outputs": [
    {
     "name": "stdout",
     "output_type": "stream",
     "text": [
      "<class 'sklearn.ensemble._weight_boosting.AdaBoostClassifier'>\n"
     ]
    }
   ],
   "source": [
    "print(type(ensemble))"
   ],
   "metadata": {
    "collapsed": false,
    "ExecuteTime": {
     "end_time": "2023-08-04T09:03:37.411420Z",
     "start_time": "2023-08-04T09:03:37.403113Z"
    }
   }
  },
  {
   "cell_type": "markdown",
   "metadata": {},
   "source": [
    "# SHAP explainer"
   ]
  },
  {
   "cell_type": "code",
   "execution_count": 26,
   "metadata": {
    "ExecuteTime": {
     "end_time": "2023-08-04T08:57:33.334389Z",
     "start_time": "2023-08-04T08:57:32.830102Z"
    }
   },
   "outputs": [
    {
     "ename": "InvalidModelError",
     "evalue": "Model type not yet supported by TreeExplainer: <class 'sklearn.ensemble._weight_boosting.AdaBoostClassifier'>",
     "output_type": "error",
     "traceback": [
      "\u001B[0;31m---------------------------------------------------------------------------\u001B[0m",
      "\u001B[0;31mInvalidModelError\u001B[0m                         Traceback (most recent call last)",
      "Cell \u001B[0;32mIn[26], line 4\u001B[0m\n\u001B[1;32m      1\u001B[0m \u001B[38;5;28;01mimport\u001B[39;00m \u001B[38;5;21;01mshap\u001B[39;00m\n\u001B[1;32m      3\u001B[0m \u001B[38;5;66;03m# Create Tree Explainer object that can calculate shap values\u001B[39;00m\n\u001B[0;32m----> 4\u001B[0m explainer \u001B[38;5;241m=\u001B[39m \u001B[43mshap\u001B[49m\u001B[38;5;241;43m.\u001B[39;49m\u001B[43mTreeExplainer\u001B[49m\u001B[43m(\u001B[49m\u001B[43mensemble\u001B[49m\u001B[43m)\u001B[49m\n\u001B[1;32m      6\u001B[0m \u001B[38;5;66;03m# Evaluate SHAP values\u001B[39;00m\n\u001B[1;32m      7\u001B[0m shap_values \u001B[38;5;241m=\u001B[39m explainer\u001B[38;5;241m.\u001B[39mshap_values(X_test)\n",
      "File \u001B[0;32m~/anaconda3/envs/iPRules/lib/python3.10/site-packages/shap/explainers/_tree.py:149\u001B[0m, in \u001B[0;36mTree.__init__\u001B[0;34m(self, model, data, model_output, feature_perturbation, feature_names, approximate, **deprecated_options)\u001B[0m\n\u001B[1;32m    147\u001B[0m \u001B[38;5;28mself\u001B[39m\u001B[38;5;241m.\u001B[39mfeature_perturbation \u001B[38;5;241m=\u001B[39m feature_perturbation\n\u001B[1;32m    148\u001B[0m \u001B[38;5;28mself\u001B[39m\u001B[38;5;241m.\u001B[39mexpected_value \u001B[38;5;241m=\u001B[39m \u001B[38;5;28;01mNone\u001B[39;00m\n\u001B[0;32m--> 149\u001B[0m \u001B[38;5;28mself\u001B[39m\u001B[38;5;241m.\u001B[39mmodel \u001B[38;5;241m=\u001B[39m \u001B[43mTreeEnsemble\u001B[49m\u001B[43m(\u001B[49m\u001B[43mmodel\u001B[49m\u001B[43m,\u001B[49m\u001B[43m \u001B[49m\u001B[38;5;28;43mself\u001B[39;49m\u001B[38;5;241;43m.\u001B[39;49m\u001B[43mdata\u001B[49m\u001B[43m,\u001B[49m\u001B[43m \u001B[49m\u001B[38;5;28;43mself\u001B[39;49m\u001B[38;5;241;43m.\u001B[39;49m\u001B[43mdata_missing\u001B[49m\u001B[43m,\u001B[49m\u001B[43m \u001B[49m\u001B[43mmodel_output\u001B[49m\u001B[43m)\u001B[49m\n\u001B[1;32m    150\u001B[0m \u001B[38;5;28mself\u001B[39m\u001B[38;5;241m.\u001B[39mmodel_output \u001B[38;5;241m=\u001B[39m model_output\n\u001B[1;32m    151\u001B[0m \u001B[38;5;66;03m#self.model_output = self.model.model_output # this allows the TreeEnsemble to translate model outputs types by how it loads the model\u001B[39;00m\n",
      "File \u001B[0;32m~/anaconda3/envs/iPRules/lib/python3.10/site-packages/shap/explainers/_tree.py:993\u001B[0m, in \u001B[0;36mTreeEnsemble.__init__\u001B[0;34m(self, model, data, data_missing, model_output)\u001B[0m\n\u001B[1;32m    991\u001B[0m     \u001B[38;5;28mself\u001B[39m\u001B[38;5;241m.\u001B[39mbase_offset \u001B[38;5;241m=\u001B[39m model\u001B[38;5;241m.\u001B[39minit_params[param_idx]\n\u001B[1;32m    992\u001B[0m \u001B[38;5;28;01melse\u001B[39;00m:\n\u001B[0;32m--> 993\u001B[0m     \u001B[38;5;28;01mraise\u001B[39;00m InvalidModelError(\u001B[38;5;124m\"\u001B[39m\u001B[38;5;124mModel type not yet supported by TreeExplainer: \u001B[39m\u001B[38;5;124m\"\u001B[39m \u001B[38;5;241m+\u001B[39m \u001B[38;5;28mstr\u001B[39m(\u001B[38;5;28mtype\u001B[39m(model)))\n\u001B[1;32m    995\u001B[0m \u001B[38;5;66;03m# build a dense numpy version of all the tree objects\u001B[39;00m\n\u001B[1;32m    996\u001B[0m \u001B[38;5;28;01mif\u001B[39;00m \u001B[38;5;28mself\u001B[39m\u001B[38;5;241m.\u001B[39mtrees \u001B[38;5;129;01mis\u001B[39;00m \u001B[38;5;129;01mnot\u001B[39;00m \u001B[38;5;28;01mNone\u001B[39;00m \u001B[38;5;129;01mand\u001B[39;00m \u001B[38;5;28mself\u001B[39m\u001B[38;5;241m.\u001B[39mtrees:\n",
      "\u001B[0;31mInvalidModelError\u001B[0m: Model type not yet supported by TreeExplainer: <class 'sklearn.ensemble._weight_boosting.AdaBoostClassifier'>"
     ]
    }
   ],
   "source": [
    "import shap\n",
    "\n",
    "# Create Tree Explainer object that can calculate shap values\n",
    "explainer = shap.TreeExplainer(ensemble)\n",
    "\n",
    "# Evaluate SHAP values\n",
    "shap_values = explainer.shap_values(X_test)\n",
    "shap.summary_plot(shap_values, X_train, feature_names=dataset.feature_names)\n"
   ]
  },
  {
   "cell_type": "code",
   "execution_count": null,
   "metadata": {
    "ExecuteTime": {
     "end_time": "2023-08-04T08:57:33.342330Z",
     "start_time": "2023-08-04T08:57:33.335976Z"
    }
   },
   "outputs": [],
   "source": [
    "\n",
    "shap.summary_plot(shap_values, X_train, feature_names=dataset.feature_names, plot_type=\"dot\")"
   ]
  }
 ],
 "metadata": {
  "colab": {
   "provenance": []
  },
  "kernelspec": {
   "display_name": "Python 3 (ipykernel)",
   "language": "python",
   "name": "python3"
  },
  "language_info": {
   "codemirror_mode": {
    "name": "ipython",
    "version": 3
   },
   "file_extension": ".py",
   "mimetype": "text/x-python",
   "name": "python",
   "nbconvert_exporter": "python",
   "pygments_lexer": "ipython3",
   "version": "3.10.10"
  }
 },
 "nbformat": 4,
 "nbformat_minor": 1
}
