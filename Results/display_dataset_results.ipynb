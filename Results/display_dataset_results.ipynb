{
 "cells": [
  {
   "cell_type": "code",
   "execution_count": null,
   "metadata": {
    "collapsed": true,
    "ExecuteTime": {
     "end_time": "2023-10-02T17:00:21.006737Z",
     "start_time": "2023-10-02T17:00:21.005924Z"
    }
   },
   "outputs": [],
   "source": [
    "# import necessary libraries\n",
    "import pandas as pd\n",
    "import matplotlib.pyplot as plt\n",
    "from sklearn.ensemble import RandomForestClassifier, GradientBoostingClassifier, BaggingClassifier, AdaBoostClassifier\n",
    "\n",
    "from catboost import CatBoostClassifier\n",
    "from lightgbm import LGBMClassifier\n",
    "from xgboost import XGBClassifier\n",
    "# get input data"
   ]
  },
  {
   "cell_type": "code",
   "execution_count": null,
   "outputs": [],
   "source": [
    "def print_df(df, dataset_name, filename_dataset, classifier, recur):\n",
    "    if recur:\n",
    "       recursive = 'Recursive'\n",
    "    else:\n",
    "       recursive = 'Non Recursive'\n",
    "           \n",
    "           \n",
    "    if classifier == \"<catboost.core.CatBoostClassifier object at 0x7f799c1b7fd0>\":\n",
    "      classifier = \"CAT\"\n",
    "    if classifier == \"GradientBoostingClassifier()\":\n",
    "      classifier = \"GBC\"\n",
    "    if classifier == \"RandomForestClassifier()\":\n",
    "      classifier = \"RF\"\n",
    "    if classifier == \"AdaBoostClassifier()\":\n",
    "      classifier = \"ADA\"\n",
    "        \n",
    "        \n",
    "    for node_value in df[\"ensemble_criterion\"].unique():\n",
    "          fig, ax = plt.subplots()\n",
    "          new_df = df.query(f'ensemble_criterion == \\\"{node_value}\\\"')\n",
    "          #print(new_df)\n",
    "          cover_value_0 = 0.0\n",
    "          new_df = new_df[new_df[\" cobertura\"] != \"0.0\"]\n",
    "          new_df = new_df[new_df[\" cobertura\"] != 0.0]\n",
    "          grouped_df =  new_df.groupby(by=['ensemble_criterion', 'chi_square_percent_point_function','scale_feature_coefficient', 'min_accuracy_coefficient', 'min_number_class_per_node', 'sorting_method'], level=0)\n",
    "    \n",
    "          ax.scatter(grouped_df[\" cobertura\"].mean(), grouped_df[\" RuleFit_f1_score\"].mean(), color=\"yellow\", label=f\"{classifier}+RFIT\", marker=\"x\")\n",
    "          ax.scatter(grouped_df[\" cobertura\"].mean(), grouped_df[\" RuleCOSI_f1_score\"].mean(), color=\"blue\", label=f\"{classifier}+RC\", marker=\"*\")\n",
    "          ax.scatter(grouped_df[\" cobertura\"].mean(), grouped_df[\" rules_f1_score\"].mean(), color=\"red\", label=f\"{classifier}+SR\", marker=\"+\")\n",
    "          # number_of_rules\n",
    "          ax.set(\n",
    "                 xlabel='Coverage',\n",
    "                 ylabel='F1-Score',\n",
    "                 title=f'{dataset_name} Coverage vs F1-Score -- {classifier} -- {recursive}')\n",
    "          plt.legend(loc=\"lower left\")\n",
    "          #plt.ylim(0, 1.1)\n",
    "          #plt.xlim(0, 1.1)\n",
    "          plt.savefig(f'{filename_dataset}.png')\n",
    "          plt.show()"
   ],
   "metadata": {
    "collapsed": false,
    "ExecuteTime": {
     "end_time": "2023-10-02T17:00:21.014148Z",
     "start_time": "2023-10-02T17:00:21.012389Z"
    }
   }
  },
  {
   "cell_type": "code",
   "execution_count": null,
   "outputs": [],
   "source": [
    "\n",
    "\n",
    "\n",
    "\n",
    "recursive = [False, True]\n",
    "\n",
    "\n",
    "dataset_names = [\n",
    "    \"kr-vs-kp\",\n",
    "    \"divorce\",\n",
    "    \"SPECT\",\n",
    "    \"tic-tac-toe\",\n",
    "    \"wisconsin\",\n",
    "    \"salud-covid\",\n",
    "]\n",
    "classifiers = [\n",
    "    \"<catboost.core.CatBoostClassifier object at 0x7f799c1b7fd0>\",\n",
    "    \"GradientBoostingClassifier()\",\n",
    "    \"RandomForestClassifier()\",\n",
    "    \"AdaBoostClassifier()\",\n",
    "    # XGBClassifier(),\n",
    "    # LGBMClassifier(),\n",
    "]\n",
    "for filename in dataset_names:\n",
    "    for classifier in classifiers:\n",
    "        for recur in recursive:\n",
    "              filename_dataset = f'./battery_{filename}_{classifier}_{recur}'\n",
    "              df = pd.read_csv(f'{filename_dataset}.csv')\n",
    "              print_df(df, filename, filename_dataset, classifier, recur)\n"
   ],
   "metadata": {
    "collapsed": false,
    "ExecuteTime": {
     "start_time": "2023-10-02T17:00:21.015258Z"
    }
   }
  }
 ],
 "metadata": {
  "kernelspec": {
   "display_name": "Python 3",
   "language": "python",
   "name": "python3"
  },
  "language_info": {
   "codemirror_mode": {
    "name": "ipython",
    "version": 2
   },
   "file_extension": ".py",
   "mimetype": "text/x-python",
   "name": "python",
   "nbconvert_exporter": "python",
   "pygments_lexer": "ipython2",
   "version": "2.7.6"
  }
 },
 "nbformat": 4,
 "nbformat_minor": 0
}
